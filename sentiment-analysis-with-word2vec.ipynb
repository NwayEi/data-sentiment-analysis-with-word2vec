{
 "cells": [
  {
   "cell_type": "markdown",
   "metadata": {},
   "source": [
    "# Sentiment analysis with Word2Vec\n",
    "\n",
    "### Exercise objectives:\n",
    "- Convert words to vectors with Word2Vec\n",
    "- Use the word representation given by Word2vec to feed a RNN\n",
    "\n",
    "<hr>\n",
    "\n",
    "\n",
    "# The data\n",
    "\n",
    "\n",
    "❓ **Question** ❓ Let's first load the data. You don't have to understand what is going on in the function, it does not matter here.\n",
    "\n",
    "⚠️ **Warning** ⚠️ The `load_data` function has a `percentage_of_sentences` argument. Depending on your computer, there are chances that too many sentences will make your compute slow down, or even freeze - your RAM can overflow. For that reason, **you should start with 10% of the sentences** and see if your computer handles it. Otherwise, rerun with a lower number. \n",
    "\n",
    "⚠️ **DISCLAIMER** ⚠️ **No need to play _who has the biggest_ (RAM) !** The idea is to get to run your models quickly to prototype. Even in real life, it is recommended that you start with a subset of your data to loop and debug quickly. So increase the number only if you are into getting the best accuracy."
   ]
  },
  {
   "cell_type": "code",
   "execution_count": 1,
   "metadata": {},
   "outputs": [],
   "source": [
    "import numpy as np"
   ]
  },
  {
   "cell_type": "code",
   "execution_count": 2,
   "metadata": {},
   "outputs": [
    {
     "name": "stderr",
     "output_type": "stream",
     "text": [
      "2023-02-18 15:15:02.507612: W tensorflow/core/platform/cloud/google_auth_provider.cc:184] All attempts to get a Google authentication bearer token failed, returning an empty token. Retrieving token from files failed with \"NOT_FOUND: Could not locate the credentials file.\". Retrieving token from GCE failed with \"FAILED_PRECONDITION: Error executing an HTTP request: libcurl code 6 meaning 'Couldn't resolve host name', error details: Could not resolve host: metadata\".\n"
     ]
    },
    {
     "name": "stdout",
     "output_type": "stream",
     "text": [
      "\u001b[1mDownloading and preparing dataset 80.23 MiB (download: 80.23 MiB, generated: Unknown size, total: 80.23 MiB) to ~/tensorflow_datasets/imdb_reviews/plain_text/1.0.0...\u001b[0m\n"
     ]
    },
    {
     "data": {
      "application/vnd.jupyter.widget-view+json": {
       "model_id": "d57b553a084b4ef1869138b5a19cea92",
       "version_major": 2,
       "version_minor": 0
      },
      "text/plain": [
       "Dl Completed...: 0 url [00:00, ? url/s]"
      ]
     },
     "metadata": {},
     "output_type": "display_data"
    },
    {
     "data": {
      "application/vnd.jupyter.widget-view+json": {
       "model_id": "1a6f33f645c543339e43a4111c08d31f",
       "version_major": 2,
       "version_minor": 0
      },
      "text/plain": [
       "Dl Size...: 0 MiB [00:00, ? MiB/s]"
      ]
     },
     "metadata": {},
     "output_type": "display_data"
    },
    {
     "data": {
      "application/vnd.jupyter.widget-view+json": {
       "model_id": "2e496a63db504f5cb1d43b7031e84315",
       "version_major": 2,
       "version_minor": 0
      },
      "text/plain": [
       "Generating splits...:   0%|          | 0/3 [00:00<?, ? splits/s]"
      ]
     },
     "metadata": {},
     "output_type": "display_data"
    },
    {
     "data": {
      "application/vnd.jupyter.widget-view+json": {
       "model_id": "4d72a31333df4aa4a9b66c344733d016",
       "version_major": 2,
       "version_minor": 0
      },
      "text/plain": [
       "Generating train examples...:   0%|          | 0/25000 [00:00<?, ? examples/s]"
      ]
     },
     "metadata": {},
     "output_type": "display_data"
    },
    {
     "data": {
      "application/vnd.jupyter.widget-view+json": {
       "model_id": "fdc5c7adbf324086af0eb4758698ba1d",
       "version_major": 2,
       "version_minor": 0
      },
      "text/plain": [
       "Shuffling ~/tensorflow_datasets/imdb_reviews/plain_text/1.0.0.incompleteZZDE8G/imdb_reviews-train.tfrecord*...…"
      ]
     },
     "metadata": {},
     "output_type": "display_data"
    },
    {
     "data": {
      "application/vnd.jupyter.widget-view+json": {
       "model_id": "78710fbab12e4994b25e7f3fde465cf0",
       "version_major": 2,
       "version_minor": 0
      },
      "text/plain": [
       "Generating test examples...:   0%|          | 0/25000 [00:00<?, ? examples/s]"
      ]
     },
     "metadata": {},
     "output_type": "display_data"
    },
    {
     "data": {
      "application/vnd.jupyter.widget-view+json": {
       "model_id": "1f97c0f45e3e4dd3b6b335d7b307580d",
       "version_major": 2,
       "version_minor": 0
      },
      "text/plain": [
       "Shuffling ~/tensorflow_datasets/imdb_reviews/plain_text/1.0.0.incompleteZZDE8G/imdb_reviews-test.tfrecord*...:…"
      ]
     },
     "metadata": {},
     "output_type": "display_data"
    },
    {
     "data": {
      "application/vnd.jupyter.widget-view+json": {
       "model_id": "0b2fc62f99b44fb9848b59e77a1d87fc",
       "version_major": 2,
       "version_minor": 0
      },
      "text/plain": [
       "Generating unsupervised examples...:   0%|          | 0/50000 [00:00<?, ? examples/s]"
      ]
     },
     "metadata": {},
     "output_type": "display_data"
    },
    {
     "data": {
      "application/vnd.jupyter.widget-view+json": {
       "model_id": "1a6b4df07ee140f1830b0ad9fad6b3a7",
       "version_major": 2,
       "version_minor": 0
      },
      "text/plain": [
       "Shuffling ~/tensorflow_datasets/imdb_reviews/plain_text/1.0.0.incompleteZZDE8G/imdb_reviews-unsupervised.tfrec…"
      ]
     },
     "metadata": {},
     "output_type": "display_data"
    },
    {
     "name": "stdout",
     "output_type": "stream",
     "text": [
      "\u001b[1mDataset imdb_reviews downloaded and prepared to ~/tensorflow_datasets/imdb_reviews/plain_text/1.0.0. Subsequent calls will reuse this data.\u001b[0m\n"
     ]
    },
    {
     "name": "stderr",
     "output_type": "stream",
     "text": [
      "2023-02-18 15:15:33.317293: W tensorflow/core/platform/profile_utils/cpu_utils.cc:128] Failed to get CPU frequency: 0 Hz\n"
     ]
    }
   ],
   "source": [
    "###########################################\n",
    "### Just run this cell to load the data ###\n",
    "###########################################\n",
    "\n",
    "import tensorflow_datasets as tfds\n",
    "from tensorflow.keras.preprocessing.text import text_to_word_sequence\n",
    "\n",
    "def load_data(percentage_of_sentences=None):\n",
    "    train_data, test_data = tfds.load(name=\"imdb_reviews\", split=[\"train\", \"test\"], batch_size=-1, as_supervised=True)\n",
    "\n",
    "    train_sentences, y_train = tfds.as_numpy(train_data)\n",
    "    test_sentences, y_test = tfds.as_numpy(test_data)\n",
    "    \n",
    "    # Take only a given percentage of the entire data\n",
    "    if percentage_of_sentences is not None:\n",
    "        assert(percentage_of_sentences> 0 and percentage_of_sentences<=100)\n",
    "        \n",
    "        len_train = int(percentage_of_sentences/100*len(train_sentences))\n",
    "        train_sentences, y_train = train_sentences[:len_train], y_train[:len_train]\n",
    "  \n",
    "        len_test = int(percentage_of_sentences/100*len(test_sentences))\n",
    "        test_sentences, y_test = test_sentences[:len_test], y_test[:len_test]\n",
    "    \n",
    "    X_train = [text_to_word_sequence(_.decode(\"utf-8\")) for _ in train_sentences]\n",
    "    X_test = [text_to_word_sequence(_.decode(\"utf-8\")) for _ in test_sentences]\n",
    "    \n",
    "    return X_train, y_train, X_test, y_test\n",
    "\n",
    "X_train, y_train, X_test, y_test = load_data(percentage_of_sentences=10)"
   ]
  },
  {
   "cell_type": "markdown",
   "metadata": {},
   "source": [
    "In the previous exercise, you trained a Word2vec representation and converted all your training sentences in order to feed them into a RNN, as shown in the first step of this Figure: \n",
    "\n",
    "<img src=\"word2vec_representation.png\" width=\"400px\" />\n",
    "\n",
    "\n",
    "\n",
    "❓ **Question** ❓ Here, let's re-do exactly what you have done in the previous exercise. First, train a word2vec model (with the arguments that you want) on your training sentence. Store it into the `word2vec` variable."
   ]
  },
  {
   "cell_type": "code",
   "execution_count": 3,
   "metadata": {
    "tags": [
     "challengify"
    ]
   },
   "outputs": [],
   "source": [
    "from gensim.models import Word2Vec\n",
    "\n",
    "# This line trains an entire embedding for the words in your train set\n",
    "word2vec = Word2Vec(sentences=X_train, vector_size=100)"
   ]
  },
  {
   "cell_type": "markdown",
   "metadata": {},
   "source": [
    "Let's reuse the functions of the previous exercise to convert your training and test data into something you can feed into a RNN.\n",
    "\n",
    "❓ **Question** ❓ Read the following function to be sure you understand what is going on, and run it."
   ]
  },
  {
   "cell_type": "code",
   "execution_count": 5,
   "metadata": {},
   "outputs": [],
   "source": [
    "from tensorflow.keras.preprocessing.sequence import pad_sequences\n",
    "import numpy as np\n",
    "\n",
    "# Function to convert a sentence (list of words) into a matrix representing the words in the embedding space\n",
    "def embed_sentence(word2vec, sentence):\n",
    "    embedded_sentence = []\n",
    "    for word in sentence:\n",
    "        if word in word2vec.wv:\n",
    "            embedded_sentence.append(word2vec.wv[word])\n",
    "        \n",
    "    return np.array(embedded_sentence)\n",
    "\n",
    "# Function that converts a list of sentences into a list of matrices\n",
    "def embedding(word2vec, sentences):\n",
    "    embed = []\n",
    "    \n",
    "    for sentence in sentences:\n",
    "        embedded_sentence = embed_sentence(word2vec, sentence)\n",
    "        embed.append(embedded_sentence)\n",
    "        \n",
    "    return embed\n",
    "\n",
    "# Embed the training and test sentences\n",
    "X_train_embed = embedding(word2vec, X_train)\n",
    "X_test_embed = embedding(word2vec, X_test)\n",
    "\n",
    "\n",
    "# Pad the training and test embedded sentences\n",
    "X_train_pad = pad_sequences(X_train_embed, dtype='float32', padding='post', maxlen=200)\n",
    "X_test_pad = pad_sequences(X_test_embed, dtype='float32', padding='post', maxlen=200)"
   ]
  },
  {
   "cell_type": "markdown",
   "metadata": {},
   "source": [
    "☝️ To be sure that it worked, let's check the following for `X_train_pad` and `X_test_pad`:\n",
    "- they are numpy arrays\n",
    "- they are 3-dimensional\n",
    "- the last dimension is of the size of your word2vec embedding space (you can get it with `word2vec.wv.vector_size`\n",
    "- the first dimension is of the size of your `X_train` and `X_test`\n",
    "\n",
    "✅ **Good Practice** ✅ Such tests are quite important! Not only in this exercise, but in real-life applications. It prevents from finding errors too late and from letting them propagate through the entire notebook."
   ]
  },
  {
   "cell_type": "code",
   "execution_count": 8,
   "metadata": {},
   "outputs": [],
   "source": [
    "# TEST ME\n",
    "for X in [X_train_pad, X_test_pad]:\n",
    "    assert type(X) == np.ndarray\n",
    "    assert X.shape[-1] == word2vec.wv.vector_size\n",
    "\n",
    "\n",
    "assert X_train_pad.shape[0] == len(X_train)\n",
    "assert X_test_pad.shape[0] == len(X_test)"
   ]
  },
  {
   "cell_type": "markdown",
   "metadata": {},
   "source": [
    "# Baseline model\n",
    "\n",
    "It is always good to have a very simple model to test your own model against - to be sure you are doing something better than a very simple algorithm.\n",
    "\n",
    "❓ **Question** ❓ What is your baseline accuracy? In this case, your baseline can be to predict the label that is the most present in `y_train` (of course, if the dataset is balanced, the baseline accuracy is 1/n where n is the number of classes - 2 here)."
   ]
  },
  {
   "cell_type": "code",
   "execution_count": 19,
   "metadata": {
    "tags": [
     "challengify"
    ]
   },
   "outputs": [
    {
     "data": {
      "text/plain": [
       "0.5"
      ]
     },
     "execution_count": 19,
     "metadata": {},
     "output_type": "execute_result"
    }
   ],
   "source": [
    "baseline_accuracy = 1/len(np.unique(y_train))\n",
    "baseline_accuracy"
   ]
  },
  {
   "cell_type": "code",
   "execution_count": 55,
   "metadata": {},
   "outputs": [
    {
     "data": {
      "text/plain": [
       "(2500, 200, 100)"
      ]
     },
     "execution_count": 55,
     "metadata": {},
     "output_type": "execute_result"
    }
   ],
   "source": [
    "X_train_pad.shape"
   ]
  },
  {
   "cell_type": "markdown",
   "metadata": {},
   "source": [
    "# The model\n",
    "\n",
    "❓ **Question** ❓ Write a RNN with the following layers:\n",
    "- a `Masking` layer\n",
    "- a `LSTM` with 20 units and `tanh` activation function\n",
    "- a `Dense` with 10 units\n",
    "- an output layer that depends on your task\n",
    "\n",
    "Then, compile your model (we advise you to use the `rmsprop` as the optimizer - at least to begin with)"
   ]
  },
  {
   "cell_type": "code",
   "execution_count": 61,
   "metadata": {
    "tags": [
     "challengify"
    ]
   },
   "outputs": [],
   "source": [
    "### Let's build the neural network now\n",
    "from tensorflow.keras import layers, Sequential\n",
    "\n",
    "# Size of your embedding space = size of the vector representing each word\n",
    "embedding_size = 100\n",
    "\n",
    "model = Sequential()\n",
    "model.add(layers.LSTM(20, activation ='tanh'))\n",
    "model.add(layers.Dense(10, activation=\"tanh\"))\n",
    "model.add(layers.Dense(1, activation=\"sigmoid\"))\n"
   ]
  },
  {
   "cell_type": "code",
   "execution_count": 56,
   "metadata": {},
   "outputs": [
    {
     "data": {
      "text/plain": [
       "(2500, 200, 100)"
      ]
     },
     "execution_count": 56,
     "metadata": {},
     "output_type": "execute_result"
    }
   ],
   "source": [
    "X_train_pad.shape"
   ]
  },
  {
   "cell_type": "markdown",
   "metadata": {},
   "source": [
    "❓ **Question** ❓ Fit the model on your embedded and padded data - do not forget the early stopping criterion.\n",
    "\n",
    "❗ **Remark** ❗ Your accuracy will greatly depend on your training corpus. Here just make sure that your performance is above the baseline model (which should be the case even if you loaded only 20% of the initial IMDB data)."
   ]
  },
  {
   "cell_type": "code",
   "execution_count": 62,
   "metadata": {
    "tags": [
     "challengify"
    ]
   },
   "outputs": [
    {
     "name": "stdout",
     "output_type": "stream",
     "text": [
      "Epoch 1/5\n",
      "79/79 [==============================] - 3s 25ms/step - loss: 0.6908 - accuracy: 0.5196\n",
      "Epoch 2/5\n",
      "79/79 [==============================] - 2s 24ms/step - loss: 0.6807 - accuracy: 0.5504\n",
      "Epoch 3/5\n",
      "79/79 [==============================] - 2s 24ms/step - loss: 0.6694 - accuracy: 0.5692\n",
      "Epoch 4/5\n",
      "79/79 [==============================] - 2s 24ms/step - loss: 0.6627 - accuracy: 0.5812\n",
      "Epoch 5/5\n",
      "79/79 [==============================] - 2s 24ms/step - loss: 0.6577 - accuracy: 0.6044\n"
     ]
    },
    {
     "data": {
      "text/plain": [
       "<keras.callbacks.History at 0x295c82860>"
      ]
     },
     "execution_count": 62,
     "metadata": {},
     "output_type": "execute_result"
    }
   ],
   "source": [
    "model.compile(loss='binary_crossentropy',\n",
    "              optimizer='rmsprop',\n",
    "              metrics=['accuracy'])\n",
    "\n",
    "model.fit(X_train_pad, y_train, epochs=5, batch_size=32, verbose=1)"
   ]
  },
  {
   "cell_type": "markdown",
   "metadata": {},
   "source": [
    "❓ **Question** ❓ Evaluate your model on the test set"
   ]
  },
  {
   "cell_type": "code",
   "execution_count": 63,
   "metadata": {
    "tags": [
     "challengify"
    ]
   },
   "outputs": [
    {
     "name": "stdout",
     "output_type": "stream",
     "text": [
      "79/79 [==============================] - 1s 7ms/step - loss: 0.6808 - accuracy: 0.5548\n"
     ]
    },
    {
     "data": {
      "text/plain": [
       "[0.680825412273407, 0.5547999739646912]"
      ]
     },
     "execution_count": 63,
     "metadata": {},
     "output_type": "execute_result"
    }
   ],
   "source": [
    "model.evaluate(X_test_pad,y_test)"
   ]
  },
  {
   "cell_type": "markdown",
   "metadata": {},
   "source": [
    "# Trained Word2Vec - Transfer Learning\n",
    "\n",
    "Your accuracy, while above the baseline model, might be quite low. There are multiple options to improve it, as data cleaning and improving the quality of the embedding.\n",
    "\n",
    "We won't dig into data cleaning strategies here. Let's try to improve the quality of our embedding. But instead of just loading a larger corpus, why not benefiting from the embedding that others have learned? Because, the quality of an embedding, i.e. the proximity of the words, can be derived from different tasks. This is exactly what transfer learning is.\n",
    "\n",
    "\n",
    "\n",
    "❓ **Question** ❓ List all the different models available in the word2vec thanks to this: "
   ]
  },
  {
   "cell_type": "code",
   "execution_count": 64,
   "metadata": {},
   "outputs": [
    {
     "name": "stdout",
     "output_type": "stream",
     "text": [
      "['fasttext-wiki-news-subwords-300', 'conceptnet-numberbatch-17-06-300', 'word2vec-ruscorpora-300', 'word2vec-google-news-300', 'glove-wiki-gigaword-50', 'glove-wiki-gigaword-100', 'glove-wiki-gigaword-200', 'glove-wiki-gigaword-300', 'glove-twitter-25', 'glove-twitter-50', 'glove-twitter-100', 'glove-twitter-200', '__testing_word2vec-matrix-synopsis']\n"
     ]
    }
   ],
   "source": [
    "import gensim.downloader as api\n",
    "print(list(api.info()['models'].keys()))"
   ]
  },
  {
   "cell_type": "markdown",
   "metadata": {},
   "source": [
    "ℹ️ You can also find the list of the models and their size on the [`gensim-data` repository](https://github.com/RaRe-Technologies/gensim-data#models)."
   ]
  },
  {
   "cell_type": "markdown",
   "metadata": {},
   "source": [
    "❓ **Question** ❓ Load one of the pre-trained word2vec embedding spaces. \n",
    "\n",
    "You can do that with `api.load(the-model-of-your-choice)`, and store it in `word2vec_transfer`\n",
    "\n",
    "<details>\n",
    "    <summary>💡 Hint</summary>\n",
    "    \n",
    "The `glove-wiki-gigaword-50` model is a good candidate to start with as it is smaller (65 MB).\n",
    "\n",
    "</details>"
   ]
  },
  {
   "cell_type": "code",
   "execution_count": 65,
   "metadata": {
    "tags": [
     "challengify"
    ]
   },
   "outputs": [
    {
     "name": "stdout",
     "output_type": "stream",
     "text": [
      "[=================---------------------------------] 35.5% 23.4/66.0MB downloaded"
     ]
    },
    {
     "name": "stderr",
     "output_type": "stream",
     "text": [
      "IOPub message rate exceeded.\n",
      "The notebook server will temporarily stop sending output\n",
      "to the client in order to avoid crashing it.\n",
      "To change this limit, set the config variable\n",
      "`--NotebookApp.iopub_msg_rate_limit`.\n",
      "\n",
      "Current values:\n",
      "NotebookApp.iopub_msg_rate_limit=1000.0 (msgs/sec)\n",
      "NotebookApp.rate_limit_window=3.0 (secs)\n",
      "\n"
     ]
    },
    {
     "name": "stdout",
     "output_type": "stream",
     "text": [
      "[==================================================] 100.0% 66.0/66.0MB downloaded\n"
     ]
    }
   ],
   "source": [
    "word2vec_transfer = api.load('glove-wiki-gigaword-50')"
   ]
  },
  {
   "cell_type": "markdown",
   "metadata": {},
   "source": [
    "❓ **Question** ❓ Check the size of the vocabulary, but also the size of the embedding space."
   ]
  },
  {
   "cell_type": "code",
   "execution_count": 70,
   "metadata": {
    "tags": [
     "challengify"
    ]
   },
   "outputs": [
    {
     "data": {
      "text/plain": [
       "{'the': 0,\n",
       " 'a': 1,\n",
       " 'and': 2,\n",
       " 'of': 3,\n",
       " 'to': 4,\n",
       " 'is': 5,\n",
       " 'br': 6,\n",
       " 'in': 7,\n",
       " 'i': 8,\n",
       " 'it': 9,\n",
       " 'this': 10,\n",
       " 'that': 11,\n",
       " 'was': 12,\n",
       " 'as': 13,\n",
       " 'for': 14,\n",
       " 'with': 15,\n",
       " 'but': 16,\n",
       " 'movie': 17,\n",
       " 'film': 18,\n",
       " 'on': 19,\n",
       " 'not': 20,\n",
       " 'you': 21,\n",
       " 'his': 22,\n",
       " 'are': 23,\n",
       " 'have': 24,\n",
       " 'one': 25,\n",
       " 'be': 26,\n",
       " 'he': 27,\n",
       " 'all': 28,\n",
       " 'at': 29,\n",
       " 'by': 30,\n",
       " 'they': 31,\n",
       " 'an': 32,\n",
       " 'so': 33,\n",
       " 'like': 34,\n",
       " 'who': 35,\n",
       " 'from': 36,\n",
       " 'her': 37,\n",
       " 'or': 38,\n",
       " 'just': 39,\n",
       " 'if': 40,\n",
       " 'out': 41,\n",
       " 'about': 42,\n",
       " \"it's\": 43,\n",
       " 'has': 44,\n",
       " 'what': 45,\n",
       " 'some': 46,\n",
       " 'there': 47,\n",
       " 'good': 48,\n",
       " 'more': 49,\n",
       " 'when': 50,\n",
       " 'very': 51,\n",
       " 'no': 52,\n",
       " 'up': 53,\n",
       " 'she': 54,\n",
       " 'my': 55,\n",
       " 'time': 56,\n",
       " 'even': 57,\n",
       " 'which': 58,\n",
       " 'would': 59,\n",
       " 'really': 60,\n",
       " 'only': 61,\n",
       " 'had': 62,\n",
       " 'story': 63,\n",
       " 'me': 64,\n",
       " 'see': 65,\n",
       " 'can': 66,\n",
       " 'their': 67,\n",
       " 'were': 68,\n",
       " 'well': 69,\n",
       " 'than': 70,\n",
       " 'much': 71,\n",
       " 'get': 72,\n",
       " 'do': 73,\n",
       " 'great': 74,\n",
       " 'been': 75,\n",
       " 'we': 76,\n",
       " 'first': 77,\n",
       " 'bad': 78,\n",
       " 'because': 79,\n",
       " 'into': 80,\n",
       " 'other': 81,\n",
       " 'will': 82,\n",
       " 'how': 83,\n",
       " 'also': 84,\n",
       " 'most': 85,\n",
       " 'then': 86,\n",
       " 'too': 87,\n",
       " 'him': 88,\n",
       " 'made': 89,\n",
       " \"don't\": 90,\n",
       " 'people': 91,\n",
       " 'way': 92,\n",
       " 'them': 93,\n",
       " 'make': 94,\n",
       " 'its': 95,\n",
       " 'movies': 96,\n",
       " 'could': 97,\n",
       " 'any': 98,\n",
       " 'films': 99,\n",
       " 'think': 100,\n",
       " 'watch': 101,\n",
       " 'plot': 102,\n",
       " 'after': 103,\n",
       " 'two': 104,\n",
       " 'best': 105,\n",
       " 'many': 106,\n",
       " 'acting': 107,\n",
       " 'life': 108,\n",
       " 'character': 109,\n",
       " 'characters': 110,\n",
       " 'never': 111,\n",
       " 'seen': 112,\n",
       " 'where': 113,\n",
       " 'over': 114,\n",
       " 'being': 115,\n",
       " 'did': 116,\n",
       " 'little': 117,\n",
       " 'these': 118,\n",
       " 'love': 119,\n",
       " 'end': 120,\n",
       " 'man': 121,\n",
       " 'show': 122,\n",
       " 'better': 123,\n",
       " 'off': 124,\n",
       " 'ever': 125,\n",
       " 'know': 126,\n",
       " 'still': 127,\n",
       " 'does': 128,\n",
       " 'say': 129,\n",
       " 'while': 130,\n",
       " 'your': 131,\n",
       " 'scene': 132,\n",
       " 'go': 133,\n",
       " 'why': 134,\n",
       " 'should': 135,\n",
       " 'through': 136,\n",
       " 'such': 137,\n",
       " 'here': 138,\n",
       " 'scenes': 139,\n",
       " 'something': 140,\n",
       " 'real': 141,\n",
       " 'back': 142,\n",
       " 'thing': 143,\n",
       " 'now': 144,\n",
       " \"i'm\": 145,\n",
       " \"doesn't\": 146,\n",
       " 'find': 147,\n",
       " 'before': 148,\n",
       " \"didn't\": 149,\n",
       " 'though': 150,\n",
       " 'makes': 151,\n",
       " 'old': 152,\n",
       " 'again': 153,\n",
       " 'watching': 154,\n",
       " 'funny': 155,\n",
       " 'new': 156,\n",
       " 'those': 157,\n",
       " 'every': 158,\n",
       " 'director': 159,\n",
       " 'actors': 160,\n",
       " 'years': 161,\n",
       " 'going': 162,\n",
       " 'nothing': 163,\n",
       " 'actually': 164,\n",
       " 'look': 165,\n",
       " 'another': 166,\n",
       " 'same': 167,\n",
       " 'work': 168,\n",
       " 'part': 169,\n",
       " '10': 170,\n",
       " 'pretty': 171,\n",
       " 'want': 172,\n",
       " 'quite': 173,\n",
       " 'few': 174,\n",
       " 'young': 175,\n",
       " 'thought': 176,\n",
       " 'down': 177,\n",
       " 'horror': 178,\n",
       " 'bit': 179,\n",
       " 'own': 180,\n",
       " 'cast': 181,\n",
       " \"can't\": 182,\n",
       " 'give': 183,\n",
       " 'around': 184,\n",
       " 'fact': 185,\n",
       " 'lot': 186,\n",
       " \"that's\": 187,\n",
       " 'world': 188,\n",
       " 'enough': 189,\n",
       " 'things': 190,\n",
       " 'point': 191,\n",
       " 'series': 192,\n",
       " 'both': 193,\n",
       " 'may': 194,\n",
       " 'done': 195,\n",
       " 'long': 196,\n",
       " 'got': 197,\n",
       " 'seems': 198,\n",
       " 'however': 199,\n",
       " 'gets': 200,\n",
       " 'take': 201,\n",
       " 'always': 202,\n",
       " 'role': 203,\n",
       " 'us': 204,\n",
       " 'original': 205,\n",
       " 'between': 206,\n",
       " 'big': 207,\n",
       " 'right': 208,\n",
       " 'times': 209,\n",
       " 'music': 210,\n",
       " 'saw': 211,\n",
       " 'without': 212,\n",
       " \"i've\": 213,\n",
       " \"isn't\": 214,\n",
       " 'family': 215,\n",
       " 'far': 216,\n",
       " 'whole': 217,\n",
       " 'might': 218,\n",
       " 'minutes': 219,\n",
       " 'am': 220,\n",
       " 'come': 221,\n",
       " 'least': 222,\n",
       " \"there's\": 223,\n",
       " '2': 224,\n",
       " 'action': 225,\n",
       " 'script': 226,\n",
       " 'must': 227,\n",
       " 'tv': 228,\n",
       " 'since': 229,\n",
       " 'kind': 230,\n",
       " 'away': 231,\n",
       " 'interesting': 232,\n",
       " 'almost': 233,\n",
       " 'performance': 234,\n",
       " 'guy': 235,\n",
       " 'fun': 236,\n",
       " 'rather': 237,\n",
       " 'especially': 238,\n",
       " 'hard': 239,\n",
       " 'anything': 240,\n",
       " 'last': 241,\n",
       " 'actor': 242,\n",
       " 'sure': 243,\n",
       " 'believe': 244,\n",
       " 'three': 245,\n",
       " 'comedy': 246,\n",
       " 'girl': 247,\n",
       " \"he's\": 248,\n",
       " 'ending': 249,\n",
       " 'making': 250,\n",
       " 'looking': 251,\n",
       " 'worst': 252,\n",
       " 'anyone': 253,\n",
       " 'woman': 254,\n",
       " 'screen': 255,\n",
       " 'day': 256,\n",
       " 'trying': 257,\n",
       " 'maybe': 258,\n",
       " 'course': 259,\n",
       " 'found': 260,\n",
       " 'each': 261,\n",
       " 'watched': 262,\n",
       " 'having': 263,\n",
       " 'set': 264,\n",
       " 'probably': 265,\n",
       " 'although': 266,\n",
       " 'yet': 267,\n",
       " 'book': 268,\n",
       " 'comes': 269,\n",
       " 'feel': 270,\n",
       " 'money': 271,\n",
       " 'played': 272,\n",
       " 'everything': 273,\n",
       " \"wasn't\": 274,\n",
       " 'night': 275,\n",
       " 'true': 276,\n",
       " 'goes': 277,\n",
       " 'instead': 278,\n",
       " 'put': 279,\n",
       " 'place': 280,\n",
       " 'reason': 281,\n",
       " 'sense': 282,\n",
       " 'dvd': 283,\n",
       " 'high': 284,\n",
       " 'audience': 285,\n",
       " 'main': 286,\n",
       " 'looks': 287,\n",
       " 'later': 288,\n",
       " '1': 289,\n",
       " 'different': 290,\n",
       " 'job': 291,\n",
       " 'second': 292,\n",
       " 'once': 293,\n",
       " 'shows': 294,\n",
       " 'during': 295,\n",
       " 'american': 296,\n",
       " 'else': 297,\n",
       " 'together': 298,\n",
       " 'worth': 299,\n",
       " 'someone': 300,\n",
       " 'takes': 301,\n",
       " 'fan': 302,\n",
       " 'wife': 303,\n",
       " 'plays': 304,\n",
       " 'our': 305,\n",
       " 'said': 306,\n",
       " 'star': 307,\n",
       " 'play': 308,\n",
       " 'read': 309,\n",
       " 'effects': 310,\n",
       " 'year': 311,\n",
       " 'black': 312,\n",
       " 'special': 313,\n",
       " 'version': 314,\n",
       " 'home': 315,\n",
       " 'half': 316,\n",
       " 'idea': 317,\n",
       " 'boring': 318,\n",
       " 'given': 319,\n",
       " 'seeing': 320,\n",
       " 'help': 321,\n",
       " '3': 322,\n",
       " 'less': 323,\n",
       " 'war': 324,\n",
       " 'beautiful': 325,\n",
       " 'house': 326,\n",
       " 'himself': 327,\n",
       " 'seem': 328,\n",
       " 'death': 329,\n",
       " \"you're\": 330,\n",
       " 'production': 331,\n",
       " 'left': 332,\n",
       " 'mind': 333,\n",
       " 'excellent': 334,\n",
       " 'top': 335,\n",
       " 'john': 336,\n",
       " 'simply': 337,\n",
       " 'camera': 338,\n",
       " 'short': 339,\n",
       " 'either': 340,\n",
       " 'poor': 341,\n",
       " 'shot': 342,\n",
       " 'hollywood': 343,\n",
       " 'stupid': 344,\n",
       " 'couple': 345,\n",
       " 'father': 346,\n",
       " 'used': 347,\n",
       " 'line': 348,\n",
       " 'perfect': 349,\n",
       " 'dead': 350,\n",
       " 'until': 351,\n",
       " 'nice': 352,\n",
       " \"couldn't\": 353,\n",
       " 'kids': 354,\n",
       " 'understand': 355,\n",
       " 'try': 356,\n",
       " 'enjoy': 357,\n",
       " 'completely': 358,\n",
       " 'classic': 359,\n",
       " 'mean': 360,\n",
       " 'along': 361,\n",
       " 'awful': 362,\n",
       " 'wrong': 363,\n",
       " 'perhaps': 364,\n",
       " 'start': 365,\n",
       " 'rest': 366,\n",
       " 'need': 367,\n",
       " 'everyone': 368,\n",
       " 'performances': 369,\n",
       " 'truly': 370,\n",
       " 'men': 371,\n",
       " 'boy': 372,\n",
       " \"i'd\": 373,\n",
       " 'gives': 374,\n",
       " 'small': 375,\n",
       " 'liked': 376,\n",
       " 'finally': 377,\n",
       " 'budget': 378,\n",
       " 'keep': 379,\n",
       " 'name': 380,\n",
       " 'head': 381,\n",
       " 'felt': 382,\n",
       " 'style': 383,\n",
       " 'wonderful': 384,\n",
       " 'face': 385,\n",
       " 'full': 386,\n",
       " '\\x96': 387,\n",
       " 'mr': 388,\n",
       " 'stars': 389,\n",
       " 'early': 390,\n",
       " 'let': 391,\n",
       " 'low': 392,\n",
       " 'friends': 393,\n",
       " 'tell': 394,\n",
       " 'drama': 395,\n",
       " 'hope': 396,\n",
       " 'written': 397,\n",
       " 'school': 398,\n",
       " 'dialogue': 399,\n",
       " 'recommend': 400,\n",
       " 'worse': 401,\n",
       " 'case': 402,\n",
       " 'terrible': 403,\n",
       " 'based': 404,\n",
       " 'sort': 405,\n",
       " 'moments': 406,\n",
       " 'run': 407,\n",
       " 'next': 408,\n",
       " 'playing': 409,\n",
       " 'video': 410,\n",
       " 'supposed': 411,\n",
       " 'often': 412,\n",
       " 'mother': 413,\n",
       " 'getting': 414,\n",
       " 'loved': 415,\n",
       " 'use': 416,\n",
       " 'human': 417,\n",
       " 'yes': 418,\n",
       " 'become': 419,\n",
       " 'came': 420,\n",
       " 'others': 421,\n",
       " 'totally': 422,\n",
       " 'absolutely': 423,\n",
       " 'lines': 424,\n",
       " 'certainly': 425,\n",
       " 'fans': 426,\n",
       " 'called': 427,\n",
       " 'side': 428,\n",
       " 'doing': 429,\n",
       " \"they're\": 430,\n",
       " 'days': 431,\n",
       " 'dark': 432,\n",
       " 'overall': 433,\n",
       " 'example': 434,\n",
       " 'entertaining': 435,\n",
       " 'live': 436,\n",
       " 'art': 437,\n",
       " 'killer': 438,\n",
       " 'definitely': 439,\n",
       " 'went': 440,\n",
       " 'lost': 441,\n",
       " 'tries': 442,\n",
       " 'beginning': 443,\n",
       " 'seemed': 444,\n",
       " 'friend': 445,\n",
       " 'city': 446,\n",
       " 'problem': 447,\n",
       " 'god': 448,\n",
       " 'town': 449,\n",
       " 'picture': 450,\n",
       " 'turn': 451,\n",
       " 'against': 452,\n",
       " 'care': 453,\n",
       " 'wanted': 454,\n",
       " 'already': 455,\n",
       " 'evil': 456,\n",
       " 'entire': 457,\n",
       " 'remember': 458,\n",
       " 'actress': 459,\n",
       " 'sex': 460,\n",
       " 'fine': 461,\n",
       " 'close': 462,\n",
       " 'title': 463,\n",
       " 'women': 464,\n",
       " 'particularly': 465,\n",
       " 'itself': 466,\n",
       " 'act': 467,\n",
       " 'throughout': 468,\n",
       " 'episode': 469,\n",
       " 'myself': 470,\n",
       " 'writing': 471,\n",
       " 'history': 472,\n",
       " 'under': 473,\n",
       " \"won't\": 474,\n",
       " 'white': 475,\n",
       " 'etc': 476,\n",
       " 'sound': 477,\n",
       " 'cinema': 478,\n",
       " \"she's\": 479,\n",
       " 'unfortunately': 480,\n",
       " 'anyway': 481,\n",
       " 'oh': 482,\n",
       " 'hand': 483,\n",
       " 'direction': 484,\n",
       " 'wants': 485,\n",
       " 'piece': 486,\n",
       " 'cannot': 487,\n",
       " 'despite': 488,\n",
       " 'stuff': 489,\n",
       " '5': 490,\n",
       " 'behind': 491,\n",
       " 'daughter': 492,\n",
       " 'themselves': 493,\n",
       " 'children': 494,\n",
       " 'lives': 495,\n",
       " 'humor': 496,\n",
       " 'eyes': 497,\n",
       " 'lead': 498,\n",
       " 'highly': 499,\n",
       " 'late': 500,\n",
       " 'moment': 501,\n",
       " 'able': 502,\n",
       " 'hour': 503,\n",
       " 'person': 504,\n",
       " 'child': 505,\n",
       " 'becomes': 506,\n",
       " 'waste': 507,\n",
       " 'kid': 508,\n",
       " 'kill': 509,\n",
       " 'viewer': 510,\n",
       " 'parts': 511,\n",
       " 'favorite': 512,\n",
       " 'leave': 513,\n",
       " 'thinking': 514,\n",
       " 'decent': 515,\n",
       " 'says': 516,\n",
       " 'soon': 517,\n",
       " 'murder': 518,\n",
       " \"you'll\": 519,\n",
       " 'slow': 520,\n",
       " 'guys': 521,\n",
       " 'past': 522,\n",
       " 'age': 523,\n",
       " 'expect': 524,\n",
       " 'girls': 525,\n",
       " 'type': 526,\n",
       " 'guess': 527,\n",
       " 'voice': 528,\n",
       " '4': 529,\n",
       " 'obvious': 530,\n",
       " 'happen': 531,\n",
       " 'b': 532,\n",
       " 'brilliant': 533,\n",
       " 'starts': 534,\n",
       " 'several': 535,\n",
       " 'matter': 536,\n",
       " 'feeling': 537,\n",
       " 'heart': 538,\n",
       " 'genre': 539,\n",
       " 'final': 540,\n",
       " 'michael': 541,\n",
       " 'ok': 542,\n",
       " 'looked': 543,\n",
       " 'flick': 544,\n",
       " 'except': 545,\n",
       " 'directed': 546,\n",
       " 'involved': 547,\n",
       " 'police': 548,\n",
       " 'chance': 549,\n",
       " 'laugh': 550,\n",
       " 'opinion': 551,\n",
       " 'sometimes': 552,\n",
       " 'blood': 553,\n",
       " 'experience': 554,\n",
       " 'strong': 555,\n",
       " 'number': 556,\n",
       " 'alone': 557,\n",
       " 'power': 558,\n",
       " 'including': 559,\n",
       " 'works': 560,\n",
       " 'gave': 561,\n",
       " 'score': 562,\n",
       " 'robert': 563,\n",
       " 'attempt': 564,\n",
       " 'writer': 565,\n",
       " 'possible': 566,\n",
       " 'annoying': 567,\n",
       " 'told': 568,\n",
       " 'david': 569,\n",
       " 'somewhat': 570,\n",
       " \"aren't\": 571,\n",
       " 'known': 572,\n",
       " 'cut': 573,\n",
       " 'wonder': 574,\n",
       " 'stop': 575,\n",
       " 'enjoyed': 576,\n",
       " 'episodes': 577,\n",
       " \"i'll\": 578,\n",
       " \"film's\": 579,\n",
       " 'took': 580,\n",
       " 'english': 581,\n",
       " 'words': 582,\n",
       " 'amazing': 583,\n",
       " 'wish': 584,\n",
       " 'turns': 585,\n",
       " 'turned': 586,\n",
       " 'happens': 587,\n",
       " 'killed': 588,\n",
       " 'sequel': 589,\n",
       " 'hit': 590,\n",
       " 'whose': 591,\n",
       " 'happened': 592,\n",
       " 'today': 593,\n",
       " 'view': 594,\n",
       " 'lady': 595,\n",
       " 'horrible': 596,\n",
       " 'jane': 597,\n",
       " 'ago': 598,\n",
       " 'simple': 599,\n",
       " 'group': 600,\n",
       " 'james': 601,\n",
       " 'please': 602,\n",
       " 'scary': 603,\n",
       " 'female': 604,\n",
       " 'seriously': 605,\n",
       " 'coming': 606,\n",
       " 'mystery': 607,\n",
       " 'quality': 608,\n",
       " 'save': 609,\n",
       " 'relationship': 610,\n",
       " 'single': 611,\n",
       " 'middle': 612,\n",
       " 'novel': 613,\n",
       " 'roles': 614,\n",
       " 's': 615,\n",
       " 'hell': 616,\n",
       " 'musical': 617,\n",
       " 'across': 618,\n",
       " \"wouldn't\": 619,\n",
       " 'word': 620,\n",
       " 'lack': 621,\n",
       " 'level': 622,\n",
       " 'serious': 623,\n",
       " 'red': 624,\n",
       " 'sad': 625,\n",
       " 'shown': 626,\n",
       " 'eye': 627,\n",
       " 'crap': 628,\n",
       " 'bring': 629,\n",
       " 'usually': 630,\n",
       " 'mostly': 631,\n",
       " 'king': 632,\n",
       " 'herself': 633,\n",
       " 'jokes': 634,\n",
       " 'car': 635,\n",
       " 'body': 636,\n",
       " 'running': 637,\n",
       " 'york': 638,\n",
       " '7': 639,\n",
       " 'happy': 640,\n",
       " 'hours': 641,\n",
       " 'light': 642,\n",
       " 'self': 643,\n",
       " 'gore': 644,\n",
       " 'events': 645,\n",
       " 'obviously': 646,\n",
       " 'british': 647,\n",
       " 'basically': 648,\n",
       " 'important': 649,\n",
       " \"'\": 650,\n",
       " 'room': 651,\n",
       " 'fight': 652,\n",
       " 'son': 653,\n",
       " 'comic': 654,\n",
       " 'documentary': 655,\n",
       " 'interest': 656,\n",
       " 'cool': 657,\n",
       " 'extremely': 658,\n",
       " 'miss': 659,\n",
       " 'husband': 660,\n",
       " 'started': 661,\n",
       " 'local': 662,\n",
       " 'none': 663,\n",
       " 'hilarious': 664,\n",
       " 'shots': 665,\n",
       " 'stories': 666,\n",
       " 'huge': 667,\n",
       " 'due': 668,\n",
       " 'thriller': 669,\n",
       " 'predictable': 670,\n",
       " 'brother': 671,\n",
       " 'elements': 672,\n",
       " 'taken': 673,\n",
       " 'straight': 674,\n",
       " 'richard': 675,\n",
       " 'dull': 676,\n",
       " 'add': 677,\n",
       " 'oscar': 678,\n",
       " 'lame': 679,\n",
       " 'yourself': 680,\n",
       " 'call': 681,\n",
       " 'above': 682,\n",
       " 'ten': 683,\n",
       " 'hero': 684,\n",
       " 'surprised': 685,\n",
       " 'game': 686,\n",
       " 'rating': 687,\n",
       " 'released': 688,\n",
       " 'near': 689,\n",
       " 'clearly': 690,\n",
       " 'sets': 691,\n",
       " 'usual': 692,\n",
       " \"let's\": 693,\n",
       " 'talent': 694,\n",
       " 'country': 695,\n",
       " 'television': 696,\n",
       " 'complete': 697,\n",
       " 'storyline': 698,\n",
       " 'lee': 699,\n",
       " 'romantic': 700,\n",
       " 'entertainment': 701,\n",
       " 'disappointed': 702,\n",
       " 'ridiculous': 703,\n",
       " '9': 704,\n",
       " 'apparently': 705,\n",
       " 'dialog': 706,\n",
       " 'fast': 707,\n",
       " 'similar': 708,\n",
       " 'heard': 709,\n",
       " 'supporting': 710,\n",
       " 'violence': 711,\n",
       " 'falls': 712,\n",
       " 'attention': 713,\n",
       " 'nor': 714,\n",
       " 'whether': 715,\n",
       " 'twist': 716,\n",
       " 'finds': 717,\n",
       " 'editing': 718,\n",
       " 'japanese': 719,\n",
       " 'ones': 720,\n",
       " 'beyond': 721,\n",
       " 'giving': 722,\n",
       " 'tale': 723,\n",
       " 'die': 724,\n",
       " 'minute': 725,\n",
       " 'songs': 726,\n",
       " 'song': 727,\n",
       " \"haven't\": 728,\n",
       " 'possibly': 729,\n",
       " 'moving': 730,\n",
       " 'figure': 731,\n",
       " 'fall': 732,\n",
       " 'taking': 733,\n",
       " 'exactly': 734,\n",
       " 'lots': 735,\n",
       " 'saying': 736,\n",
       " 'reality': 737,\n",
       " 'peter': 738,\n",
       " 'screenplay': 739,\n",
       " 'jack': 740,\n",
       " 'non': 741,\n",
       " 'future': 742,\n",
       " 'strange': 743,\n",
       " 'typical': 744,\n",
       " 'mention': 745,\n",
       " 'cinematography': 746,\n",
       " 'means': 747,\n",
       " 'wait': 748,\n",
       " 'stay': 749,\n",
       " 'comments': 750,\n",
       " 'realistic': 751,\n",
       " 'sit': 752,\n",
       " 'somehow': 753,\n",
       " 'talk': 754,\n",
       " 'message': 755,\n",
       " 'indeed': 756,\n",
       " 'sorry': 757,\n",
       " 'animation': 758,\n",
       " 'named': 759,\n",
       " 'class': 760,\n",
       " 'major': 761,\n",
       " 'modern': 762,\n",
       " 'ends': 763,\n",
       " 'rock': 764,\n",
       " 'imagine': 765,\n",
       " 'living': 766,\n",
       " 'street': 767,\n",
       " 'brought': 768,\n",
       " 'earth': 769,\n",
       " \"who's\": 770,\n",
       " 'kept': 771,\n",
       " 'theme': 772,\n",
       " 'atmosphere': 773,\n",
       " 'third': 774,\n",
       " 'bunch': 775,\n",
       " 'sequence': 776,\n",
       " 'nearly': 777,\n",
       " 'reviews': 778,\n",
       " 'check': 779,\n",
       " 'hate': 780,\n",
       " 'fantastic': 781,\n",
       " 'opening': 782,\n",
       " 'easily': 783,\n",
       " 'doubt': 784,\n",
       " 'christmas': 785,\n",
       " 'imdb': 786,\n",
       " 'expected': 787,\n",
       " 'whom': 788,\n",
       " 'enjoyable': 789,\n",
       " 'baby': 790,\n",
       " 'laughs': 791,\n",
       " 'appears': 792,\n",
       " 'career': 793,\n",
       " 'writers': 794,\n",
       " 'sounds': 795,\n",
       " 'tells': 796,\n",
       " 'cheap': 797,\n",
       " 'nature': 798,\n",
       " 'sadly': 799,\n",
       " 'dream': 800,\n",
       " 'air': 801,\n",
       " 'easy': 802,\n",
       " 're': 803,\n",
       " 'effort': 804,\n",
       " 'within': 805,\n",
       " 'begins': 806,\n",
       " 'talking': 807,\n",
       " 't': 808,\n",
       " 'five': 809,\n",
       " 'ways': 810,\n",
       " 'four': 811,\n",
       " 'emotional': 812,\n",
       " 'knew': 813,\n",
       " 'silly': 814,\n",
       " 'material': 815,\n",
       " 'viewers': 816,\n",
       " 'stand': 817,\n",
       " 'meet': 818,\n",
       " 'comment': 819,\n",
       " 'knows': 820,\n",
       " 'hot': 821,\n",
       " 'suspense': 822,\n",
       " 'points': 823,\n",
       " 'parents': 824,\n",
       " 'upon': 825,\n",
       " 'leads': 826,\n",
       " 'avoid': 827,\n",
       " 'difficult': 828,\n",
       " 'french': 829,\n",
       " 'wasted': 830,\n",
       " 'believable': 831,\n",
       " 'review': 832,\n",
       " 'season': 833,\n",
       " 'period': 834,\n",
       " 'dramatic': 835,\n",
       " 'weird': 836,\n",
       " 'gone': 837,\n",
       " 'wrote': 838,\n",
       " \"what's\": 839,\n",
       " 'leading': 840,\n",
       " 'order': 841,\n",
       " 'release': 842,\n",
       " 'using': 843,\n",
       " 'directing': 844,\n",
       " 'casting': 845,\n",
       " 'portrayed': 846,\n",
       " 'george': 847,\n",
       " 'books': 848,\n",
       " '8': 849,\n",
       " 'hear': 850,\n",
       " 'famous': 851,\n",
       " 'directors': 852,\n",
       " 'problems': 853,\n",
       " 'working': 854,\n",
       " 'feels': 855,\n",
       " 'tried': 856,\n",
       " 'change': 857,\n",
       " 'theater': 858,\n",
       " 'among': 859,\n",
       " 'perfectly': 860,\n",
       " 'needs': 861,\n",
       " 'appear': 862,\n",
       " 'begin': 863,\n",
       " 'married': 864,\n",
       " 'setting': 865,\n",
       " 'hair': 866,\n",
       " 'decided': 867,\n",
       " 'clear': 868,\n",
       " 'sequences': 869,\n",
       " 'deal': 870,\n",
       " 'follow': 871,\n",
       " 'space': 872,\n",
       " 'western': 873,\n",
       " 'interested': 874,\n",
       " 'social': 875,\n",
       " 'odd': 876,\n",
       " 'girlfriend': 877,\n",
       " 'box': 878,\n",
       " 'depth': 879,\n",
       " 'poorly': 880,\n",
       " \"you've\": 881,\n",
       " 'return': 882,\n",
       " 'particular': 883,\n",
       " 'forced': 884,\n",
       " 'premise': 885,\n",
       " 'meant': 886,\n",
       " 'worked': 887,\n",
       " 'de': 888,\n",
       " 'eventually': 889,\n",
       " 'shame': 890,\n",
       " 'otherwise': 891,\n",
       " 'potential': 892,\n",
       " 'meets': 893,\n",
       " 'earlier': 894,\n",
       " 'became': 895,\n",
       " 'previous': 896,\n",
       " 'needed': 897,\n",
       " 'whatever': 898,\n",
       " 'animals': 899,\n",
       " 'stage': 900,\n",
       " 'fantasy': 901,\n",
       " 'sister': 902,\n",
       " 'brings': 903,\n",
       " 'result': 904,\n",
       " 'cute': 905,\n",
       " 'effect': 906,\n",
       " 'bought': 907,\n",
       " 'failed': 908,\n",
       " 'waiting': 909,\n",
       " 'showing': 910,\n",
       " 'gay': 911,\n",
       " 'agree': 912,\n",
       " 'stewart': 913,\n",
       " 'apart': 914,\n",
       " 'creepy': 915,\n",
       " 'mary': 916,\n",
       " 'note': 917,\n",
       " 'move': 918,\n",
       " 'paul': 919,\n",
       " 'general': 920,\n",
       " 'badly': 921,\n",
       " 'average': 922,\n",
       " 'doctor': 923,\n",
       " 'form': 924,\n",
       " 'co': 925,\n",
       " 'fire': 926,\n",
       " 'pathetic': 927,\n",
       " 'ask': 928,\n",
       " \"we're\": 929,\n",
       " 'beauty': 930,\n",
       " 'honestly': 931,\n",
       " 'hands': 932,\n",
       " 'rent': 933,\n",
       " 'dance': 934,\n",
       " 'basic': 935,\n",
       " 'filmed': 936,\n",
       " 'band': 937,\n",
       " 'society': 938,\n",
       " 'hardly': 939,\n",
       " 'frank': 940,\n",
       " 'crime': 941,\n",
       " 'kelly': 942,\n",
       " 'feature': 943,\n",
       " 'features': 944,\n",
       " 'fighting': 945,\n",
       " 'unless': 946,\n",
       " 'fi': 947,\n",
       " 'admit': 948,\n",
       " 'greatest': 949,\n",
       " 'sci': 950,\n",
       " 'bored': 951,\n",
       " 'cop': 952,\n",
       " 'male': 953,\n",
       " 'ben': 954,\n",
       " 'cartoon': 955,\n",
       " 'members': 956,\n",
       " 'science': 957,\n",
       " 'certain': 958,\n",
       " 'romance': 959,\n",
       " 'monster': 960,\n",
       " 'weak': 961,\n",
       " 'free': 962,\n",
       " '20': 963,\n",
       " 'older': 964,\n",
       " 'copy': 965,\n",
       " 'buy': 966,\n",
       " 'expecting': 967,\n",
       " 'situation': 968,\n",
       " 'write': 969,\n",
       " 'surprise': 970,\n",
       " 'cat': 971,\n",
       " 'tom': 972,\n",
       " 'credits': 973,\n",
       " 'joe': 974,\n",
       " 'state': 975,\n",
       " 'footage': 976,\n",
       " 'team': 977,\n",
       " 'trash': 978,\n",
       " 'crazy': 979,\n",
       " 'front': 980,\n",
       " 'soundtrack': 981,\n",
       " 'break': 982,\n",
       " 'cheesy': 983,\n",
       " 'consider': 984,\n",
       " 'actual': 985,\n",
       " 'dumb': 986,\n",
       " 'sexual': 987,\n",
       " '15': 988,\n",
       " 'business': 989,\n",
       " 'forward': 990,\n",
       " 'attempts': 991,\n",
       " 'deserves': 992,\n",
       " 'spoilers': 993,\n",
       " 'decide': 994,\n",
       " 'adaptation': 995,\n",
       " 'recently': 996,\n",
       " 'batman': 997,\n",
       " 'control': 998,\n",
       " 'joke': 999,\n",
       " ...}"
      ]
     },
     "execution_count": 70,
     "metadata": {},
     "output_type": "execute_result"
    }
   ],
   "source": [
    "word2vec.wv.key_to_index"
   ]
  },
  {
   "cell_type": "markdown",
   "metadata": {},
   "source": [
    "❓ Let's embed `X_train` and `X_test`, same as in the first question where we provided the functions to do so! (There is a slight difference in the `embed_sentence_with_TF` function that we will not dig into)"
   ]
  },
  {
   "cell_type": "code",
   "execution_count": 71,
   "metadata": {},
   "outputs": [],
   "source": [
    "# Function to convert a sentence (list of words) into a matrix representing the words in the embedding space\n",
    "def embed_sentence_with_TF(word2vec, sentence):\n",
    "    embedded_sentence = []\n",
    "    for word in sentence:\n",
    "        if word in word2vec:\n",
    "            embedded_sentence.append(word2vec[word])\n",
    "        \n",
    "    return np.array(embedded_sentence)\n",
    "\n",
    "# Function that converts a list of sentences into a list of matrices\n",
    "def embedding(word2vec, sentences):\n",
    "    embed = []\n",
    "    \n",
    "    for sentence in sentences:\n",
    "        embedded_sentence = embed_sentence_with_TF(word2vec, sentence)\n",
    "        embed.append(embedded_sentence)\n",
    "        \n",
    "    return embed\n",
    "\n",
    "# Embed the training and test sentences\n",
    "X_train_embed_2 = embedding(word2vec_transfer, X_train)\n",
    "X_test_embed_2 = embedding(word2vec_transfer, X_test)"
   ]
  },
  {
   "cell_type": "markdown",
   "metadata": {},
   "source": [
    "❓ **Question** ❓  Do not forget to pad your results and store it in `X_train_pad_2` and `X_test_pad_2`."
   ]
  },
  {
   "cell_type": "code",
   "execution_count": 75,
   "metadata": {
    "tags": [
     "challengify"
    ]
   },
   "outputs": [],
   "source": [
    "X_train_pad = pad_sequences(X_train_embed_2, dtype='float32', padding='post')\n",
    "X_test_pad = pad_sequences(X_test_embed_2, dtype='float32', padding='post')"
   ]
  },
  {
   "cell_type": "markdown",
   "metadata": {},
   "source": [
    "❓ **Question** ❓ Reinitialize a model and fit it on your new embedded (and padded) data!  Evaluate it on your test set and compare it to your previous accuracy.\n",
    "\n",
    "❗ **Remark** ❗ The training here could take some time. You can just compute 10 epochs (this is **not** a good practice, it is just not to wait too long) and go to the next exercise while it trains - or take a break, you probably deserve it ;)"
   ]
  },
  {
   "cell_type": "code",
   "execution_count": 76,
   "metadata": {
    "tags": [
     "challengify"
    ]
   },
   "outputs": [
    {
     "name": "stdout",
     "output_type": "stream",
     "text": [
      "Epoch 1/5\n",
      "79/79 [==============================] - 11s 120ms/step - loss: 0.6935 - accuracy: 0.4940\n",
      "Epoch 2/5\n",
      "79/79 [==============================] - 9s 118ms/step - loss: 0.6933 - accuracy: 0.5060\n",
      "Epoch 3/5\n",
      "79/79 [==============================] - 9s 117ms/step - loss: 0.6932 - accuracy: 0.4976\n",
      "Epoch 4/5\n",
      "79/79 [==============================] - 9s 117ms/step - loss: 0.6933 - accuracy: 0.5064\n",
      "Epoch 5/5\n",
      "79/79 [==============================] - 10s 120ms/step - loss: 0.6932 - accuracy: 0.5032\n"
     ]
    },
    {
     "data": {
      "text/plain": [
       "<keras.callbacks.History at 0x2ffc25870>"
      ]
     },
     "execution_count": 76,
     "metadata": {},
     "output_type": "execute_result"
    }
   ],
   "source": [
    "### Let's build the neural network now\n",
    "from tensorflow.keras import layers, Sequential\n",
    "\n",
    "# Size of your embedding space = size of the vector representing each word\n",
    "embedding_size = 100\n",
    "\n",
    "model = Sequential()\n",
    "model.add(layers.LSTM(20, activation ='tanh'))\n",
    "model.add(layers.Dense(10, activation=\"tanh\"))\n",
    "model.add(layers.Dense(1, activation=\"sigmoid\"))\n",
    "\n",
    "model.compile(loss='binary_crossentropy',\n",
    "              optimizer='rmsprop',\n",
    "              metrics=['accuracy'])\n",
    "\n",
    "model.fit(X_train_pad, y_train, epochs=5, batch_size=32, verbose=1)"
   ]
  },
  {
   "cell_type": "code",
   "execution_count": 78,
   "metadata": {},
   "outputs": [
    {
     "name": "stdout",
     "output_type": "stream",
     "text": [
      "The accuracy evaluated on the test set is of 49.160%\n"
     ]
    }
   ],
   "source": [
    "res = model.evaluate(X_test_pad, y_test, verbose=0)\n",
    "\n",
    "print(f'The accuracy evaluated on the test set is of {res[1]*100:.3f}%')"
   ]
  },
  {
   "cell_type": "markdown",
   "metadata": {},
   "source": [
    "Because your new word2vec has been trained on a large corpus, it has a representation for many many words! Way more than with your small dataset, especially as you discarded words that were not present more than a given number of times in the train set. For that reason, you have way more embedded words in your train and test set, which makes each iteration longer than previously"
   ]
  },
  {
   "cell_type": "code",
   "execution_count": null,
   "metadata": {},
   "outputs": [],
   "source": []
  }
 ],
 "metadata": {
  "kernelspec": {
   "display_name": "Python 3",
   "language": "python",
   "name": "python3"
  },
  "language_info": {
   "codemirror_mode": {
    "name": "ipython",
    "version": 3
   },
   "file_extension": ".py",
   "mimetype": "text/x-python",
   "name": "python",
   "nbconvert_exporter": "python",
   "pygments_lexer": "ipython3",
   "version": "3.10.6"
  },
  "vscode": {
   "interpreter": {
    "hash": "5f369d1003cbeb29ca24c91ebfb8bd641ff7c533205099e6df7e77f56fb917cf"
   }
  }
 },
 "nbformat": 4,
 "nbformat_minor": 4
}
